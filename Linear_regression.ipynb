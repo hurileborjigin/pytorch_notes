{
  "nbformat": 4,
  "nbformat_minor": 0,
  "metadata": {
    "colab": {
      "provenance": [],
      "authorship_tag": "ABX9TyPgSFXLT98iN8ZpqhrZi9Tr",
      "include_colab_link": true
    },
    "kernelspec": {
      "name": "python3",
      "display_name": "Python 3"
    },
    "language_info": {
      "name": "python"
    }
  },
  "cells": [
    {
      "cell_type": "markdown",
      "metadata": {
        "id": "view-in-github",
        "colab_type": "text"
      },
      "source": [
        "<a href=\"https://colab.research.google.com/github/hurileborjigin/pytorch_notes/blob/main/Linear_regression.ipynb\" target=\"_parent\"><img src=\"https://colab.research.google.com/assets/colab-badge.svg\" alt=\"Open In Colab\"/></a>"
      ]
    },
    {
      "cell_type": "markdown",
      "source": [
        "## General training pipeline in pytorch\n",
        "1. Design model: input, output, size and forward pass\n",
        "2. Construct loss and optimizer\n",
        "3. Training loop\n",
        "\n",
        "  - **forward pass**: compute predictino\n",
        "  - **backward pass**: compute gradients\n",
        "  - **update weights**"
      ],
      "metadata": {
        "id": "jajEHUeN9ooG"
      }
    },
    {
      "cell_type": "code",
      "source": [
        "import torch\n",
        "import torch.nn as nn"
      ],
      "metadata": {
        "id": "nn8O-DZi-Dj7"
      },
      "execution_count": 4,
      "outputs": []
    },
    {
      "cell_type": "code",
      "source": [
        "X = torch.tensor([1, 2, 3, 4], dtype=torch.float32)\n",
        "y = torch.tensor([2, 4, 6, 8], dtype=torch.float32)\n",
        "\n",
        "X = X.view(-1, 1)\n",
        "y = y.view(-1, 1)\n",
        "\n",
        "\n",
        "n_samples, n_features = X.shape\n",
        "print(n_samples, n_features)\n",
        "X\n",
        "\n"
      ],
      "metadata": {
        "colab": {
          "base_uri": "https://localhost:8080/"
        },
        "id": "UMeTJlOI-H8o",
        "outputId": "d49f21a2-5b33-4439-9690-b428f9533685"
      },
      "execution_count": 10,
      "outputs": [
        {
          "output_type": "stream",
          "name": "stdout",
          "text": [
            "4 1\n"
          ]
        },
        {
          "output_type": "execute_result",
          "data": {
            "text/plain": [
              "tensor([[1.],\n",
              "        [2.],\n",
              "        [3.],\n",
              "        [4.]])"
            ]
          },
          "metadata": {},
          "execution_count": 10
        }
      ]
    },
    {
      "cell_type": "code",
      "source": [
        "# w = torch.tensor(0.0, dtype=torch.float32, requires_grad=True)\n",
        "# def forward(x):\n",
        "#     return w * x\n",
        "\n",
        "input_size = n_features\n",
        "output_size = n_features\n",
        "# model = nn.Linear(input_size, output_size)\n",
        "\n",
        "\n",
        "class LinearModel(nn.Module):\n",
        "  def __init__(self, input_size, out_put_size):\n",
        "    super().__init__()\n",
        "\n",
        "    self.lin = nn.Linear(input_size, output_size)\n",
        "\n",
        "  def forward(self, x):\n",
        "    return self.lin(x)\n",
        "\n",
        "model = LinearModel(input_size, output_size)\n",
        "# params\n",
        "lr = 0.01\n",
        "iter_num = 1000\n",
        "\n",
        "loss = torch.nn.MSELoss()\n",
        "\n",
        "X_test = torch.tensor([5], dtype=torch.float32)\n",
        "\n",
        "\n",
        "optimizer = torch.optim.SGD(model.parameters(), lr=lr)\n",
        "\n",
        "\n",
        "print(f'Prediction before training: f(5) = {model(X_test).item():.3f}')\n",
        "\n",
        "\n",
        "# Training loop\n",
        "for epoch in range(iter_num):\n",
        "  y_pred = model.forward(X)\n",
        "  l = loss(y, y_pred)\n",
        "\n",
        "  l.backward()\n",
        "\n",
        "  # Update weights\n",
        "  optimizer.step()\n",
        "\n",
        "  # zero out the grads\n",
        "  optimizer.zero_grad()\n",
        "\n",
        "  if epoch % 100 == 0:\n",
        "    [w, b] = model.parameters()\n",
        "    print(f'epoch {epoch+1}: w = {w[0][0].item():.3f}, loss = {l:.8f}')\n",
        "\n",
        "print(f'Prediction after training: f(5) = {model(X_test).item():.3f}')"
      ],
      "metadata": {
        "colab": {
          "base_uri": "https://localhost:8080/"
        },
        "id": "M6hgRVL1_HeT",
        "outputId": "c257216c-862d-4c9f-8c1b-f6f8e282cae9"
      },
      "execution_count": 20,
      "outputs": [
        {
          "output_type": "stream",
          "name": "stdout",
          "text": [
            "Prediction before training: f(5) = -4.738\n",
            "epoch 1: w = -0.413, loss = 67.70149231\n",
            "epoch 101: w = 1.876, loss = 0.02246078\n",
            "epoch 201: w = 1.908, loss = 0.01233070\n",
            "epoch 301: w = 1.932, loss = 0.00676939\n",
            "epoch 401: w = 1.949, loss = 0.00371631\n",
            "epoch 501: w = 1.963, loss = 0.00204021\n",
            "epoch 601: w = 1.972, loss = 0.00112005\n",
            "epoch 701: w = 1.979, loss = 0.00061489\n",
            "epoch 801: w = 1.985, loss = 0.00033757\n",
            "epoch 901: w = 1.989, loss = 0.00018532\n",
            "Prediction after training: f(5) = 9.983\n"
          ]
        }
      ]
    },
    {
      "cell_type": "code",
      "source": [],
      "metadata": {
        "id": "WmShvpXuBCKy"
      },
      "execution_count": null,
      "outputs": []
    },
    {
      "cell_type": "markdown",
      "source": [
        "## Linear Regression"
      ],
      "metadata": {
        "id": "OtjRfR3IEylo"
      }
    },
    {
      "cell_type": "code",
      "source": [
        "# import requirements\n",
        "import torch\n",
        "import torch.nn as nn\n",
        "import numpy as np\n",
        "from sklearn import datasets\n",
        "import matplotlib.pyplot as plt\n",
        "%matplotlib inline\n"
      ],
      "metadata": {
        "id": "egqYEPYPEzg8"
      },
      "execution_count": 21,
      "outputs": []
    },
    {
      "cell_type": "code",
      "source": [
        "# 0) prepare data\n",
        "X_numpy, y_numpy = datasets.make_regression(n_samples=100, n_features=1, noise=20, random_state=1)\n",
        "\n",
        "X_torch = torch.from_numpy(X_numpy.astype(np.float32))\n",
        "y_torch = torch.from_numpy(y_numpy.astype(np.float32))\n",
        "y_torch = y_torch.view(-1, 1)\n",
        "\n",
        "n_samples, n_features = X_torch.shape\n",
        "print(n_samples, n_features)\n"
      ],
      "metadata": {
        "colab": {
          "base_uri": "https://localhost:8080/"
        },
        "id": "WKS0kmbrFl5e",
        "outputId": "4224c565-e176-401f-f8fb-3870e31aeb91"
      },
      "execution_count": 28,
      "outputs": [
        {
          "output_type": "stream",
          "name": "stdout",
          "text": [
            "100 1\n"
          ]
        }
      ]
    },
    {
      "cell_type": "code",
      "source": [
        "# 1) create a model\n",
        "input_size = n_features\n",
        "output_size = 1\n",
        "model = nn.Linear(input_size, output_size)\n"
      ],
      "metadata": {
        "id": "kpolV2arFnlR"
      },
      "execution_count": 29,
      "outputs": []
    },
    {
      "cell_type": "code",
      "source": [
        "# 2) loss and optimizer\n",
        "criterion = nn.MSELoss()\n",
        "optimizer = torch.optim.SGD(model.parameters(), lr=0.01)\n"
      ],
      "metadata": {
        "id": "YplzCZkfGmJ9"
      },
      "execution_count": 30,
      "outputs": []
    },
    {
      "cell_type": "code",
      "source": [
        "# 3) training loop\n",
        "num_epochs = 100\n",
        "for epoch in range(num_epochs):\n",
        "  # forward pass\n",
        "  y_pred = model(X_torch)\n",
        "  loss = criterion(y_pred, y_torch)\n",
        "  # backward pass\n",
        "  loss.backward()\n",
        "  # update param\n",
        "  optimizer.step()\n",
        "  optimizer.zero_grad()\n",
        "\n",
        "  if epoch%10 == 0:\n",
        "    print(f'epoch:  {epoch + 1} \\t loss: = {loss.item():.8f}')\n"
      ],
      "metadata": {
        "colab": {
          "base_uri": "https://localhost:8080/"
        },
        "id": "itdg0sjkG5sm",
        "outputId": "560cfc40-65cb-46d7-f7db-43919b77c91c"
      },
      "execution_count": 33,
      "outputs": [
        {
          "output_type": "stream",
          "name": "stdout",
          "text": [
            "epoch:  1 \t loss: = 551.49755859\n",
            "epoch:  11 \t loss: = 492.32412720\n",
            "epoch:  21 \t loss: = 449.18972778\n",
            "epoch:  31 \t loss: = 417.73162842\n",
            "epoch:  41 \t loss: = 394.77938843\n",
            "epoch:  51 \t loss: = 378.02609253\n",
            "epoch:  61 \t loss: = 365.79312134\n",
            "epoch:  71 \t loss: = 356.85812378\n",
            "epoch:  81 \t loss: = 350.32977295\n",
            "epoch:  91 \t loss: = 345.55859375\n"
          ]
        }
      ]
    },
    {
      "cell_type": "code",
      "source": [
        "# plot\n",
        "predicted = model(X_torch).detach().numpy()\n",
        "\n",
        "plt.plot(X_numpy, y_numpy, 'ro')\n",
        "plt.plot(X_numpy, predicted, 'b')\n",
        "plt.show()"
      ],
      "metadata": {
        "colab": {
          "base_uri": "https://localhost:8080/",
          "height": 430
        },
        "id": "MBbQdO7jHjYB",
        "outputId": "8a08f3ca-66ab-425f-9e78-2a90bf73906c"
      },
      "execution_count": 34,
      "outputs": [
        {
          "output_type": "display_data",
          "data": {
            "text/plain": [
              "<Figure size 640x480 with 1 Axes>"
            ],
            "image/png": "[encoded data removed]"
          },
          "metadata": {}
        }
      ]
    },
    {
      "cell_type": "code",
      "source": [
        ""
      ],
      "metadata": {
        "id": "V8kZccneIBvG"
      },
      "execution_count": null,
      "outputs": []
    }
  ]
}