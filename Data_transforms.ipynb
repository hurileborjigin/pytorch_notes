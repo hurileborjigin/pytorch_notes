{
  "nbformat": 4,
  "nbformat_minor": 0,
  "metadata": {
    "colab": {
      "provenance": [],
      "authorship_tag": "ABX9TyPe2wZLqi+zMInnEYHswaOH",
      "include_colab_link": true
    },
    "kernelspec": {
      "name": "python3",
      "display_name": "Python 3"
    },
    "language_info": {
      "name": "python"
    }
  },
  "cells": [
    {
      "cell_type": "markdown",
      "metadata": {
        "id": "view-in-github",
        "colab_type": "text"
      },
      "source": [
        "<a href=\"https://colab.research.google.com/github/hurileborjigin/pytorch_notes/blob/main/Data_transforms.ipynb\" target=\"_parent\"><img src=\"https://colab.research.google.com/assets/colab-badge.svg\" alt=\"Open In Colab\"/></a>"
      ]
    },
    {
      "cell_type": "markdown",
      "source": [
        "## Dataset transforms"
      ],
      "metadata": {
        "id": "v4l3N2fY_fkF"
      }
    },
    {
      "cell_type": "code",
      "execution_count": 1,
      "metadata": {
        "id": "BuXIgo5M_VM1"
      },
      "outputs": [],
      "source": [
        "import torch\n",
        "import torchvision\n",
        "from torch.utils.data import Dataset, DataLoader\n",
        "import numpy as np\n",
        "import math"
      ]
    },
    {
      "cell_type": "code",
      "source": [
        "mkdir data"
      ],
      "metadata": {
        "colab": {
          "base_uri": "https://localhost:8080/"
        },
        "id": "jtO3ziR5_lRo",
        "outputId": "6871a26f-369a-4edb-c4bf-0e6a08abc94d"
      },
      "execution_count": 2,
      "outputs": [
        {
          "output_type": "stream",
          "name": "stdout",
          "text": [
            "mkdir: cannot create directory ‘data’: File exists\n"
          ]
        }
      ]
    },
    {
      "cell_type": "code",
      "source": [
        "mkdir data/wine"
      ],
      "metadata": {
        "colab": {
          "base_uri": "https://localhost:8080/"
        },
        "id": "UcQnW5PbAZbH",
        "outputId": "eee96d77-5a4e-480e-b96b-85089eb1945d"
      },
      "execution_count": 3,
      "outputs": [
        {
          "output_type": "stream",
          "name": "stdout",
          "text": [
            "mkdir: cannot create directory ‘data/wine’: File exists\n"
          ]
        }
      ]
    },
    {
      "cell_type": "code",
      "source": [
        "cd data/wine"
      ],
      "metadata": {
        "colab": {
          "base_uri": "https://localhost:8080/"
        },
        "id": "quBbuh9CAbWL",
        "outputId": "4c16a8c3-8988-44a2-e362-504e7c7f486c"
      },
      "execution_count": 4,
      "outputs": [
        {
          "output_type": "stream",
          "name": "stdout",
          "text": [
            "/content/data/wine\n"
          ]
        }
      ]
    },
    {
      "cell_type": "code",
      "source": [
        "!wget \"https://l.station307.com/MY31vvccTkZmgER3N9E6zz/wine.csv\"\n"
      ],
      "metadata": {
        "colab": {
          "base_uri": "https://localhost:8080/"
        },
        "id": "v1u0gzbkAcZk",
        "outputId": "9c511b7f-99b9-42fb-81ba-c006994d209e"
      },
      "execution_count": 5,
      "outputs": [
        {
          "output_type": "stream",
          "name": "stdout",
          "text": [
            "--2024-12-21 21:07:25--  https://l.station307.com/MY31vvccTkZmgER3N9E6zz/wine.csv\n",
            "Resolving l.station307.com (l.station307.com)... 51.158.131.31\n",
            "Connecting to l.station307.com (l.station307.com)|51.158.131.31|:443... connected.\n",
            "HTTP request sent, awaiting response... 200 OK\n",
            "Length: 10889 (11K) [text/csv]\n",
            "Saving to: ‘wine.csv.1’\n",
            "\n",
            "wine.csv.1          100%[===================>]  10.63K  --.-KB/s    in 0s      \n",
            "\n",
            "2024-12-21 21:07:25 (135 MB/s) - ‘wine.csv.1’ saved [10889/10889]\n",
            "\n"
          ]
        }
      ]
    },
    {
      "cell_type": "code",
      "source": [
        "cd ../.."
      ],
      "metadata": {
        "colab": {
          "base_uri": "https://localhost:8080/"
        },
        "id": "4YkgMsGlAelc",
        "outputId": "60f290c0-053d-46e4-9ba6-439c825118f6"
      },
      "execution_count": 6,
      "outputs": [
        {
          "output_type": "stream",
          "name": "stdout",
          "text": [
            "/content\n"
          ]
        }
      ]
    },
    {
      "cell_type": "code",
      "source": [
        "# Custom dataset\n",
        "\n",
        "class WineDataset(Dataset):\n",
        "  def __init__(self, transform=None):\n",
        "    xy = np.loadtxt('./data/wine/wine.csv', delimiter=',', dtype=np.float32, skiprows=1)\n",
        "    self.x = torch.from_numpy(xy[:, 1:])\n",
        "    self.y = torch.from_numpy(xy[:, [0]])\n",
        "    self.num_samples = xy.shape[0]\n",
        "    self.transform = transform\n",
        "    print(f'transform: {self.transform}')\n",
        "\n",
        "\n",
        "\n",
        "\n",
        "\n",
        "  def __getitem__(self, index):\n",
        "    sample = self.x[index], self.y[index]\n",
        "    # print((sample))\n",
        "\n",
        "    if self.transform:\n",
        "      sample = self.transform(sample)\n",
        "    # print(type(sample))\n",
        "    return sample\n",
        "\n",
        "  def __len__(self):\n",
        "    return self.num_samples"
      ],
      "metadata": {
        "id": "05z7N0AsAg0j"
      },
      "execution_count": 62,
      "outputs": []
    },
    {
      "cell_type": "code",
      "source": [
        "class ToTensor:\n",
        "  def __call__(self, sample):\n",
        "    inputs, targets = sample\n",
        "    # print(type(inputs))\n",
        "    # return torch.from_numpy(inputs), torch.from_numpy(targets)\n",
        "    return inputs, targets"
      ],
      "metadata": {
        "id": "AAzWfQEtAjfq"
      },
      "execution_count": 63,
      "outputs": []
    },
    {
      "cell_type": "code",
      "source": [
        "dataset = WineDataset(transform=None)"
      ],
      "metadata": {
        "colab": {
          "base_uri": "https://localhost:8080/"
        },
        "id": "11clhoukAn9t",
        "outputId": "ee70311d-2974-430a-b43f-fc207515e4a9"
      },
      "execution_count": 64,
      "outputs": [
        {
          "output_type": "stream",
          "name": "stdout",
          "text": [
            "transform: None\n"
          ]
        }
      ]
    },
    {
      "cell_type": "code",
      "source": [
        "first_data = dataset[0]\n",
        "features, labels = first_data\n",
        "print(type(features), type(labels))"
      ],
      "metadata": {
        "colab": {
          "base_uri": "https://localhost:8080/"
        },
        "id": "-ALpqsRaAoo6",
        "outputId": "18875fff-e1dc-4696-a534-27a293a670e1"
      },
      "execution_count": 65,
      "outputs": [
        {
          "output_type": "stream",
          "name": "stdout",
          "text": [
            "<class 'torch.Tensor'> <class 'torch.Tensor'>\n"
          ]
        }
      ]
    },
    {
      "cell_type": "code",
      "source": [],
      "metadata": {
        "id": "LQTAc2B5B0Dp"
      },
      "execution_count": 57,
      "outputs": []
    }
  ]
}