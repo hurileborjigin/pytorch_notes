{
  "nbformat": 4,
  "nbformat_minor": 0,
  "metadata": {
    "colab": {
      "provenance": [],
      "gpuType": "T4",
      "authorship_tag": "ABX9TyMVj0qBgUxh28uKwcjEAJA6",
      "include_colab_link": true
    },
    "kernelspec": {
      "name": "python3",
      "display_name": "Python 3"
    },
    "language_info": {
      "name": "python"
    },
    "accelerator": "GPU"
  },
  "cells": [
    {
      "cell_type": "markdown",
      "metadata": {
        "id": "view-in-github",
        "colab_type": "text"
      },
      "source": [
        "<a href=\"https://colab.research.google.com/github/hurileborjigin/pytorch_notes/blob/main/FNN.ipynb\" target=\"_parent\"><img src=\"https://colab.research.google.com/assets/colab-badge.svg\" alt=\"Open In Colab\"/></a>"
      ]
    },
    {
      "cell_type": "markdown",
      "source": [
        "## Feedforward neural network\n",
        "- 1. MNIST Dataset\n",
        "- 2. DataLoader, Transformation\n",
        "- 3. Multi-layer neural net\n",
        "- 4. Loss and Optimizer\n",
        "- 5. Training loop\n",
        "- 6. Model evaluation\n",
        "- 7. GPU"
      ],
      "metadata": {
        "id": "6yyDP-AqbEaH"
      }
    },
    {
      "cell_type": "code",
      "execution_count": 1,
      "metadata": {
        "id": "bByiadIbbCjo"
      },
      "outputs": [],
      "source": [
        "import torch\n",
        "import torch.nn as nn\n",
        "import torchvision\n",
        "import torchvision.transforms as transforms\n",
        "import matplotlib.pyplot as plt\n",
        "import numpy as np"
      ]
    },
    {
      "cell_type": "code",
      "source": [
        "# device configuration\n",
        "device = torch.device('cuda' if torch.cuda.is_available() else 'cpu')"
      ],
      "metadata": {
        "id": "aQEwR2y8cyDA"
      },
      "execution_count": 2,
      "outputs": []
    },
    {
      "cell_type": "code",
      "source": [
        "device"
      ],
      "metadata": {
        "colab": {
          "base_uri": "https://localhost:8080/"
        },
        "id": "CqI2w-Uzc3m-",
        "outputId": "80c52dd3-4315-44e1-cd9f-6da44719b6b1"
      },
      "execution_count": 3,
      "outputs": [
        {
          "output_type": "execute_result",
          "data": {
            "text/plain": [
              "device(type='cuda')"
            ]
          },
          "metadata": {},
          "execution_count": 3
        }
      ]
    },
    {
      "cell_type": "code",
      "source": [
        "# hyperparameters\n",
        "input_size = 784\n",
        "hidden_size = 100\n",
        "num_classes = 10\n",
        "num_epochs = 20\n",
        "batch_size = 100\n",
        "learning_rate = 0.001"
      ],
      "metadata": {
        "id": "ap8drFcydD1n"
      },
      "execution_count": 5,
      "outputs": []
    },
    {
      "cell_type": "code",
      "source": [
        "# Prepare the dataset\n",
        "train_data = torchvision.datasets.MNIST(root='./data', train=True, download=True, transform=transforms.ToTensor())\n",
        "test_data = torchvision.datasets.MNIST('./data', train=False, transform=transforms.ToTensor())\n",
        "\n",
        "\n",
        "train_loader = torch.utils.data.DataLoader(dataset=train_data, batch_size=batch_size, shuffle=True)\n",
        "test_loader = torch.utils.data.DataLoader(dataset=test_data, batch_size=batch_size, shuffle=False)\n",
        "\n",
        "examples = iter(train_loader)\n",
        "samples, labels = next(examples)\n",
        "print(samples.shape, labels.shape)\n",
        "\n",
        "for i in range(6):\n",
        "  plt.subplot(2, 3, i+1)\n",
        "  plt.imshow(samples[i][0], cmap='Blues')"
      ],
      "metadata": {
        "colab": {
          "base_uri": "https://localhost:8080/",
          "height": 428
        },
        "id": "wfiTcg2ydVlV",
        "outputId": "32b3e4ed-3d42-4f0e-eaf0-d90843869f61"
      },
      "execution_count": 11,
      "outputs": [
        {
          "output_type": "stream",
          "name": "stdout",
          "text": [
            "torch.Size([100, 1, 28, 28]) torch.Size([100])\n"
          ]
        },
        {
          "output_type": "display_data",
          "data": {
            "text/plain": [
              "<Figure size 640x480 with 6 Axes>"
            ],
            "image/png": "[encoded data removed]"
          },
          "metadata": {}
        }
      ]
    },
    {
      "cell_type": "code",
      "source": [
        "# Create the model\n",
        "class NeuralNet(nn.Module):\n",
        "  def __init__(self, input_size, hidden_size, num_classes):\n",
        "    super().__init__()\n",
        "    self.l1 = nn.Linear(input_size, hidden_size)\n",
        "    self.relu = nn.ReLU()\n",
        "    self.l2 = nn.Linear(hidden_size, num_classes)\n",
        "\n",
        "  def forward(self, X):\n",
        "    out = self.l1(X)\n",
        "    out = self.relu(out)\n",
        "    out = self.l2(out)\n",
        "    return out"
      ],
      "metadata": {
        "id": "fotgjiYibxwR"
      },
      "execution_count": 12,
      "outputs": []
    },
    {
      "cell_type": "code",
      "source": [
        "# Create an instance of the model, and define loss and optimizer\n",
        "model = NeuralNet(input_size, hidden_size, num_classes).to(device)\n",
        "criterion = nn.CrossEntropyLoss()\n",
        "optimizer = torch.optim.Adam(model.parameters(), lr=learning_rate)"
      ],
      "metadata": {
        "id": "3Gg9FGkYcLFm"
      },
      "execution_count": 14,
      "outputs": []
    },
    {
      "cell_type": "code",
      "source": [
        "# Training loop\n",
        "n_total_steps = len(train_loader)\n",
        "\n",
        "for epoch in range(num_epochs):\n",
        "  for i, (image, labels) in enumerate(train_loader):\n",
        "    # reshape the images\n",
        "    images = image.reshape(-1, 28*28).to(device)\n",
        "    labels = labels.to(device)\n",
        "\n",
        "    # forward pass\n",
        "    outputs = model(images)\n",
        "\n",
        "    loss = criterion(outputs, labels)\n",
        "\n",
        "    optimizer.zero_grad()\n",
        "    loss.backward()\n",
        "    optimizer.step()\n",
        "\n",
        "    if (i + 1) % 100 == 0:\n",
        "      print(f'Epoch: {epoch + 1}/{num_epochs}, Step: {i+1}/{n_total_steps}, Loss: {loss.item():.4f}')\n"
      ],
      "metadata": {
        "colab": {
          "base_uri": "https://localhost:8080/"
        },
        "id": "uAUnvyh3gFX_",
        "outputId": "103d9690-646e-48ea-f6d2-78d206f68ada"
      },
      "execution_count": 15,
      "outputs": [
        {
          "output_type": "stream",
          "name": "stdout",
          "text": [
            "Epoch: 1/20, Step: 100/600, Loss: 0.3944\n",
            "Epoch: 1/20, Step: 200/600, Loss: 0.3027\n",
            "Epoch: 1/20, Step: 300/600, Loss: 0.2738\n",
            "Epoch: 1/20, Step: 400/600, Loss: 0.3238\n",
            "Epoch: 1/20, Step: 500/600, Loss: 0.3517\n",
            "Epoch: 1/20, Step: 600/600, Loss: 0.1800\n",
            "Epoch: 2/20, Step: 100/600, Loss: 0.1521\n",
            "Epoch: 2/20, Step: 200/600, Loss: 0.2328\n",
            "Epoch: 2/20, Step: 300/600, Loss: 0.2410\n",
            "Epoch: 2/20, Step: 400/600, Loss: 0.1633\n",
            "Epoch: 2/20, Step: 500/600, Loss: 0.2144\n",
            "Epoch: 2/20, Step: 600/600, Loss: 0.1322\n",
            "Epoch: 3/20, Step: 100/600, Loss: 0.0769\n",
            "Epoch: 3/20, Step: 200/600, Loss: 0.1738\n",
            "Epoch: 3/20, Step: 300/600, Loss: 0.0930\n",
            "Epoch: 3/20, Step: 400/600, Loss: 0.0640\n",
            "Epoch: 3/20, Step: 500/600, Loss: 0.2072\n",
            "Epoch: 3/20, Step: 600/600, Loss: 0.1113\n",
            "Epoch: 4/20, Step: 100/600, Loss: 0.0504\n",
            "Epoch: 4/20, Step: 200/600, Loss: 0.1569\n",
            "Epoch: 4/20, Step: 300/600, Loss: 0.0888\n",
            "Epoch: 4/20, Step: 400/600, Loss: 0.1386\n",
            "Epoch: 4/20, Step: 500/600, Loss: 0.0845\n",
            "Epoch: 4/20, Step: 600/600, Loss: 0.0815\n",
            "Epoch: 5/20, Step: 100/600, Loss: 0.1471\n",
            "Epoch: 5/20, Step: 200/600, Loss: 0.1236\n",
            "Epoch: 5/20, Step: 300/600, Loss: 0.0226\n",
            "Epoch: 5/20, Step: 400/600, Loss: 0.1848\n",
            "Epoch: 5/20, Step: 500/600, Loss: 0.0379\n",
            "Epoch: 5/20, Step: 600/600, Loss: 0.0631\n",
            "Epoch: 6/20, Step: 100/600, Loss: 0.0417\n",
            "Epoch: 6/20, Step: 200/600, Loss: 0.0169\n",
            "Epoch: 6/20, Step: 300/600, Loss: 0.0687\n",
            "Epoch: 6/20, Step: 400/600, Loss: 0.1062\n",
            "Epoch: 6/20, Step: 500/600, Loss: 0.0312\n",
            "Epoch: 6/20, Step: 600/600, Loss: 0.0499\n",
            "Epoch: 7/20, Step: 100/600, Loss: 0.0695\n",
            "Epoch: 7/20, Step: 200/600, Loss: 0.0655\n",
            "Epoch: 7/20, Step: 300/600, Loss: 0.0358\n",
            "Epoch: 7/20, Step: 400/600, Loss: 0.0499\n",
            "Epoch: 7/20, Step: 500/600, Loss: 0.0362\n",
            "Epoch: 7/20, Step: 600/600, Loss: 0.0896\n",
            "Epoch: 8/20, Step: 100/600, Loss: 0.0344\n",
            "Epoch: 8/20, Step: 200/600, Loss: 0.0323\n",
            "Epoch: 8/20, Step: 300/600, Loss: 0.0884\n",
            "Epoch: 8/20, Step: 400/600, Loss: 0.0205\n",
            "Epoch: 8/20, Step: 500/600, Loss: 0.0706\n",
            "Epoch: 8/20, Step: 600/600, Loss: 0.0749\n",
            "Epoch: 9/20, Step: 100/600, Loss: 0.0944\n",
            "Epoch: 9/20, Step: 200/600, Loss: 0.0109\n",
            "Epoch: 9/20, Step: 300/600, Loss: 0.0252\n",
            "Epoch: 9/20, Step: 400/600, Loss: 0.0722\n",
            "Epoch: 9/20, Step: 500/600, Loss: 0.0643\n",
            "Epoch: 9/20, Step: 600/600, Loss: 0.0222\n",
            "Epoch: 10/20, Step: 100/600, Loss: 0.0969\n",
            "Epoch: 10/20, Step: 200/600, Loss: 0.0881\n",
            "Epoch: 10/20, Step: 300/600, Loss: 0.0203\n",
            "Epoch: 10/20, Step: 400/600, Loss: 0.0091\n",
            "Epoch: 10/20, Step: 500/600, Loss: 0.0380\n",
            "Epoch: 10/20, Step: 600/600, Loss: 0.0497\n",
            "Epoch: 11/20, Step: 100/600, Loss: 0.0408\n",
            "Epoch: 11/20, Step: 200/600, Loss: 0.0235\n",
            "Epoch: 11/20, Step: 300/600, Loss: 0.0432\n",
            "Epoch: 11/20, Step: 400/600, Loss: 0.0366\n",
            "Epoch: 11/20, Step: 500/600, Loss: 0.0258\n",
            "Epoch: 11/20, Step: 600/600, Loss: 0.0118\n",
            "Epoch: 12/20, Step: 100/600, Loss: 0.0241\n",
            "Epoch: 12/20, Step: 200/600, Loss: 0.0442\n",
            "Epoch: 12/20, Step: 300/600, Loss: 0.0910\n",
            "Epoch: 12/20, Step: 400/600, Loss: 0.0201\n",
            "Epoch: 12/20, Step: 500/600, Loss: 0.0151\n",
            "Epoch: 12/20, Step: 600/600, Loss: 0.0529\n",
            "Epoch: 13/20, Step: 100/600, Loss: 0.0143\n",
            "Epoch: 13/20, Step: 200/600, Loss: 0.0405\n",
            "Epoch: 13/20, Step: 300/600, Loss: 0.0224\n",
            "Epoch: 13/20, Step: 400/600, Loss: 0.0172\n",
            "Epoch: 13/20, Step: 500/600, Loss: 0.0235\n",
            "Epoch: 13/20, Step: 600/600, Loss: 0.0221\n",
            "Epoch: 14/20, Step: 100/600, Loss: 0.0165\n",
            "Epoch: 14/20, Step: 200/600, Loss: 0.0101\n",
            "Epoch: 14/20, Step: 300/600, Loss: 0.0094\n",
            "Epoch: 14/20, Step: 400/600, Loss: 0.0203\n",
            "Epoch: 14/20, Step: 500/600, Loss: 0.0312\n",
            "Epoch: 14/20, Step: 600/600, Loss: 0.0083\n",
            "Epoch: 15/20, Step: 100/600, Loss: 0.0066\n",
            "Epoch: 15/20, Step: 200/600, Loss: 0.0140\n",
            "Epoch: 15/20, Step: 300/600, Loss: 0.0225\n",
            "Epoch: 15/20, Step: 400/600, Loss: 0.0139\n",
            "Epoch: 15/20, Step: 500/600, Loss: 0.0382\n",
            "Epoch: 15/20, Step: 600/600, Loss: 0.0253\n",
            "Epoch: 16/20, Step: 100/600, Loss: 0.0175\n",
            "Epoch: 16/20, Step: 200/600, Loss: 0.0105\n",
            "Epoch: 16/20, Step: 300/600, Loss: 0.0227\n",
            "Epoch: 16/20, Step: 400/600, Loss: 0.0029\n",
            "Epoch: 16/20, Step: 500/600, Loss: 0.0058\n",
            "Epoch: 16/20, Step: 600/600, Loss: 0.0140\n",
            "Epoch: 17/20, Step: 100/600, Loss: 0.0034\n",
            "Epoch: 17/20, Step: 200/600, Loss: 0.0065\n",
            "Epoch: 17/20, Step: 300/600, Loss: 0.0145\n",
            "Epoch: 17/20, Step: 400/600, Loss: 0.0276\n",
            "Epoch: 17/20, Step: 500/600, Loss: 0.0084\n",
            "Epoch: 17/20, Step: 600/600, Loss: 0.0164\n",
            "Epoch: 18/20, Step: 100/600, Loss: 0.0094\n",
            "Epoch: 18/20, Step: 200/600, Loss: 0.0087\n",
            "Epoch: 18/20, Step: 300/600, Loss: 0.0273\n",
            "Epoch: 18/20, Step: 400/600, Loss: 0.0053\n",
            "Epoch: 18/20, Step: 500/600, Loss: 0.0298\n",
            "Epoch: 18/20, Step: 600/600, Loss: 0.0214\n",
            "Epoch: 19/20, Step: 100/600, Loss: 0.0056\n",
            "Epoch: 19/20, Step: 200/600, Loss: 0.0019\n",
            "Epoch: 19/20, Step: 300/600, Loss: 0.0073\n",
            "Epoch: 19/20, Step: 400/600, Loss: 0.0027\n",
            "Epoch: 19/20, Step: 500/600, Loss: 0.0305\n",
            "Epoch: 19/20, Step: 600/600, Loss: 0.0245\n",
            "Epoch: 20/20, Step: 100/600, Loss: 0.0093\n",
            "Epoch: 20/20, Step: 200/600, Loss: 0.0039\n",
            "Epoch: 20/20, Step: 300/600, Loss: 0.0056\n",
            "Epoch: 20/20, Step: 400/600, Loss: 0.0067\n",
            "Epoch: 20/20, Step: 500/600, Loss: 0.0263\n",
            "Epoch: 20/20, Step: 600/600, Loss: 0.0107\n"
          ]
        }
      ]
    },
    {
      "cell_type": "code",
      "source": [
        "with torch.no_grad():\n",
        "  n_correct = 0\n",
        "  n_samples = 0\n",
        "  for images, labels in test_loader:\n",
        "    images = images.reshape(-1, 28*28).to(device)\n",
        "    labels = labels.to(device)\n",
        "    outputs = model(images)\n",
        "\n",
        "    # torch.max() returns value, index\n",
        "    _, predictions = torch.max(outputs, 1)\n",
        "    n_samples += labels.shape[0]\n",
        "    n_correct += (predictions == labels).sum().item()\n",
        "\n",
        "  acc = 100 * n_correct / n_samples\n",
        "  print(f'Accuracy: {acc}%')"
      ],
      "metadata": {
        "colab": {
          "base_uri": "https://localhost:8080/"
        },
        "id": "3NHhr5MFhjmV",
        "outputId": "ccaddc5b-2857-44f4-cde9-f4f69989c29c"
      },
      "execution_count": 19,
      "outputs": [
        {
          "output_type": "stream",
          "name": "stdout",
          "text": [
            "Accuracy: 97.78%\n"
          ]
        }
      ]
    },
    {
      "cell_type": "code",
      "source": [],
      "metadata": {
        "id": "xMv2ZF2rnV9e"
      },
      "execution_count": null,
      "outputs": []
    }
  ]
}