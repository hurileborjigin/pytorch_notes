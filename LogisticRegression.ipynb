{
  "nbformat": 4,
  "nbformat_minor": 0,
  "metadata": {
    "colab": {
      "provenance": [],
      "authorship_tag": "ABX9TyPYVI1AisyfiPbiv8filb0A",
      "include_colab_link": true
    },
    "kernelspec": {
      "name": "python3",
      "display_name": "Python 3"
    },
    "language_info": {
      "name": "python"
    }
  },
  "cells": [
    {
      "cell_type": "markdown",
      "metadata": {
        "id": "view-in-github",
        "colab_type": "text"
      },
      "source": [
        "<a href=\"https://colab.research.google.com/github/hurileborjigin/pytorch_notes/blob/main/LogisticRegression.ipynb\" target=\"_parent\"><img src=\"https://colab.research.google.com/assets/colab-badge.svg\" alt=\"Open In Colab\"/></a>"
      ]
    },
    {
      "cell_type": "code",
      "execution_count": null,
      "metadata": {
        "id": "q2j6PDswITJy"
      },
      "outputs": [],
      "source": []
    },
    {
      "cell_type": "markdown",
      "source": [
        "## 1) Design Model\n",
        "## 2) Construct loss and optimizer\n",
        "## 3) Training loop\n",
        "  - 1. forward pass\n",
        "  - 2. backward pass\n",
        "  - 3. update weights\n"
      ],
      "metadata": {
        "id": "byDO2Mt3J2OE"
      }
    },
    {
      "cell_type": "code",
      "source": [
        "# Impport packages\n",
        "import torch\n",
        "import torch.nn as nn\n",
        "from sklearn import datasets\n",
        "from sklearn.preprocessing import StandardScaler\n",
        "from sklearn.model_selection import train_test_split\n",
        "import numpy as np\n"
      ],
      "metadata": {
        "id": "nW7A9snzKH6F"
      },
      "execution_count": 6,
      "outputs": []
    },
    {
      "cell_type": "code",
      "source": [
        "# Prepare datasets\n",
        "\n",
        "bc = datasets.load_breast_cancer()\n",
        "X, y = bc.data, bc.target\n",
        "\n",
        "num_samples, num_features = X.shape\n",
        "\n",
        "\n",
        "X_train, X_test, y_train, y_test = train_test_split(X, y, test_size=0.2, random_state=1234)\n",
        "\n",
        "# Scale the feature\n",
        "sc = StandardScaler()\n",
        "X_train = sc.fit_transform(X_train)\n",
        "X_test = sc.transform(X_test)\n",
        "\n",
        "X_train = torch.from_numpy(X_train.astype(np.float32))\n",
        "X_test = torch.from_numpy(X_test.astype(np.float32))\n",
        "\n",
        "y_train = torch.from_numpy(y_train.astype(np.float32))\n",
        "y_test = torch.from_numpy(y_test.astype(np.float32))\n",
        "\n",
        "\n",
        "y_train = y_train.view(-1, 1)\n",
        "y_test = y_test.view(-1, 1)\n",
        "\n"
      ],
      "metadata": {
        "id": "iSPFfGthKp4z"
      },
      "execution_count": 43,
      "outputs": []
    },
    {
      "cell_type": "code",
      "source": [
        "# Set up the model\n",
        "# f = sigmoid(w * x + b)\n",
        "class LogisticRegression(nn.Module):\n",
        "  def __init__(self, n_input_features):\n",
        "    super().__init__()\n",
        "    self.linear = nn.Linear(n_input_features, 1)\n",
        "\n",
        "  def forward(self, x):\n",
        "    y_pred = torch.sigmoid(self.linear(x))\n",
        "\n",
        "    return y_pred\n"
      ],
      "metadata": {
        "id": "N1Jgrl0DLIE9"
      },
      "execution_count": 44,
      "outputs": []
    },
    {
      "cell_type": "code",
      "source": [
        "# Set up the loss\n",
        "model = LogisticRegression(num_features)\n",
        "criterion = nn.BCELoss()\n",
        "learning_rate = 0.01\n",
        "optimizer = torch.optim.Adam(model.parameters(), lr=learning_rate)\n",
        "\n"
      ],
      "metadata": {
        "id": "T2x8rIpBM_d1"
      },
      "execution_count": 45,
      "outputs": []
    },
    {
      "cell_type": "code",
      "source": [
        "# Actual trianing loop\n",
        "\n",
        "epochs = 10000\n",
        "for i in range(epochs):\n",
        "  # forward pass\n",
        "  y_pred = model(X_train)\n",
        "  loss = criterion(y_pred, y_train)\n",
        "\n",
        "  loss.backward()\n",
        "  optimizer.step()\n",
        "  optimizer.zero_grad()\n",
        "\n",
        "  if(i+1) % 1000 == 0:\n",
        "    print(f'Epoch: {i + 1}, loss = {loss}' )\n",
        ""
      ],
      "metadata": {
        "colab": {
          "base_uri": "https://localhost:8080/"
        },
        "id": "ss0tcSpbNR-x",
        "outputId": "47f91b7c-c22e-4d45-c9bd-1b6bc2dc31fc"
      },
      "execution_count": 46,
      "outputs": [
        {
          "output_type": "stream",
          "name": "stdout",
          "text": [
            "Epoch: 1000, loss = 0.02601570077240467\n",
            "Epoch: 2000, loss = 0.018966784700751305\n",
            "Epoch: 3000, loss = 0.013820460997521877\n",
            "Epoch: 4000, loss = 0.009663179516792297\n",
            "Epoch: 5000, loss = 0.006513688247650862\n",
            "Epoch: 6000, loss = 0.004247621167451143\n",
            "Epoch: 7000, loss = 0.0027019537519663572\n",
            "Epoch: 8000, loss = 0.001688332762569189\n",
            "Epoch: 9000, loss = 0.001042284769937396\n",
            "Epoch: 10000, loss = 0.000639330071862787\n"
          ]
        }
      ]
    },
    {
      "cell_type": "code",
      "source": [
        "# Evaluation\n",
        "with torch.no_grad():\n",
        "  y_pred = model(X_test)\n",
        "  y_pred_cls = y_pred.round()\n",
        "  acc = y_pred_cls.eq(y_test).sum()/ float(y_test.shape[0]) * 100\n",
        "  print(f'Accuracy: {acc:.4f}%')"
      ],
      "metadata": {
        "colab": {
          "base_uri": "https://localhost:8080/"
        },
        "id": "as_ZXGYeOPBk",
        "outputId": "55d3d50a-533c-4021-92bf-d260565051aa"
      },
      "execution_count": 47,
      "outputs": [
        {
          "output_type": "stream",
          "name": "stdout",
          "text": [
            "Accuracy: 96.4912%\n"
          ]
        }
      ]
    },
    {
      "cell_type": "code",
      "source": [],
      "metadata": {
        "id": "7DN4qMx2PQnt"
      },
      "execution_count": 47,
      "outputs": []
    }
  ]
}